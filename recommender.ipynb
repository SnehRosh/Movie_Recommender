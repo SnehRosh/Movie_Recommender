{
 "cells": [
  {
   "cell_type": "code",
   "execution_count": 1,
   "metadata": {},
   "outputs": [],
   "source": [
    "import pandas as pd\n",
    "import numpy as np\n",
    "import nltk\n",
    "from nltk.corpus import stopwords\n",
    "import textblob\n",
    "from sklearn.feature_extraction.text import CountVectorizer, TfidfVectorizer\n",
    "from sklearn.metrics.pairwise import cosine_similarity"
   ]
  },
  {
   "cell_type": "code",
   "execution_count": 9,
   "metadata": {},
   "outputs": [
    {
     "data": {
      "text/html": [
       "<div>\n",
       "<style scoped>\n",
       "    .dataframe tbody tr th:only-of-type {\n",
       "        vertical-align: middle;\n",
       "    }\n",
       "\n",
       "    .dataframe tbody tr th {\n",
       "        vertical-align: top;\n",
       "    }\n",
       "\n",
       "    .dataframe thead th {\n",
       "        text-align: right;\n",
       "    }\n",
       "</style>\n",
       "<table border=\"1\" class=\"dataframe\">\n",
       "  <thead>\n",
       "    <tr style=\"text-align: right;\">\n",
       "      <th></th>\n",
       "      <th>title</th>\n",
       "      <th>director</th>\n",
       "      <th>release_year</th>\n",
       "      <th>runtime</th>\n",
       "      <th>genre</th>\n",
       "      <th>rating</th>\n",
       "      <th>metascore</th>\n",
       "      <th>gross</th>\n",
       "    </tr>\n",
       "  </thead>\n",
       "  <tbody>\n",
       "    <tr>\n",
       "      <th>0</th>\n",
       "      <td>The Shawshank Redemption</td>\n",
       "      <td>Frank Darabont</td>\n",
       "      <td>(1994)</td>\n",
       "      <td>142 min</td>\n",
       "      <td>Drama</td>\n",
       "      <td>9.3</td>\n",
       "      <td>82</td>\n",
       "      <td>$28.34M</td>\n",
       "    </tr>\n",
       "    <tr>\n",
       "      <th>1</th>\n",
       "      <td>The Godfather</td>\n",
       "      <td>Francis Ford Coppola</td>\n",
       "      <td>(1972)</td>\n",
       "      <td>175 min</td>\n",
       "      <td>Crime, Drama</td>\n",
       "      <td>9.2</td>\n",
       "      <td>100</td>\n",
       "      <td>$134.97M</td>\n",
       "    </tr>\n",
       "    <tr>\n",
       "      <th>2</th>\n",
       "      <td>The Dark Knight</td>\n",
       "      <td>Christopher Nolan</td>\n",
       "      <td>(2008)</td>\n",
       "      <td>152 min</td>\n",
       "      <td>Action, Crime, Drama</td>\n",
       "      <td>9.0</td>\n",
       "      <td>84</td>\n",
       "      <td>$534.86M</td>\n",
       "    </tr>\n",
       "    <tr>\n",
       "      <th>3</th>\n",
       "      <td>Schindler's List</td>\n",
       "      <td>Steven Spielberg</td>\n",
       "      <td>(1993)</td>\n",
       "      <td>195 min</td>\n",
       "      <td>Biography, Drama, History</td>\n",
       "      <td>9.0</td>\n",
       "      <td>95</td>\n",
       "      <td>$96.90M</td>\n",
       "    </tr>\n",
       "    <tr>\n",
       "      <th>4</th>\n",
       "      <td>12 Angry Men</td>\n",
       "      <td>Sidney Lumet</td>\n",
       "      <td>(1957)</td>\n",
       "      <td>96 min</td>\n",
       "      <td>Crime, Drama</td>\n",
       "      <td>9.0</td>\n",
       "      <td>97</td>\n",
       "      <td>$4.36M</td>\n",
       "    </tr>\n",
       "  </tbody>\n",
       "</table>\n",
       "</div>"
      ],
      "text/plain": [
       "                      title              director release_year  runtime  \\\n",
       "0  The Shawshank Redemption        Frank Darabont       (1994)  142 min   \n",
       "1             The Godfather  Francis Ford Coppola       (1972)  175 min   \n",
       "2           The Dark Knight     Christopher Nolan       (2008)  152 min   \n",
       "3          Schindler's List      Steven Spielberg       (1993)  195 min   \n",
       "4              12 Angry Men          Sidney Lumet       (1957)   96 min   \n",
       "\n",
       "                       genre  rating  metascore     gross  \n",
       "0                      Drama     9.3         82   $28.34M  \n",
       "1               Crime, Drama     9.2        100  $134.97M  \n",
       "2       Action, Crime, Drama     9.0         84  $534.86M  \n",
       "3  Biography, Drama, History     9.0         95   $96.90M  \n",
       "4               Crime, Drama     9.0         97    $4.36M  "
      ]
     },
     "execution_count": 9,
     "metadata": {},
     "output_type": "execute_result"
    }
   ],
   "source": [
    "url = 'C:/Users/Hp/OneDrive/Desktop/PYDS/Movie_recommender/Data/imdb_raw.csv'\n",
    "df = pd.read_csv(url)\n",
    "df.head()"
   ]
  },
  {
   "cell_type": "code",
   "execution_count": null,
   "metadata": {},
   "outputs": [
    {
     "data": {
      "text/plain": [
       "0          The Shawshank Redemption Frank Darabont Drama\n",
       "1        The Godfather Francis Ford Coppola Crime, Drama\n",
       "2      The Dark Knight Christopher Nolan Action, Crim...\n",
       "3      Schindler's List Steven Spielberg Biography, D...\n",
       "4                 12 Angry Men Sidney Lumet Crime, Drama\n",
       "                             ...                        \n",
       "995    A Very Long Engagement Jean-Pierre Jeunet Dram...\n",
       "996            Shine Scott Hicks Biography, Drama, Music\n",
       "997    Philomena Stephen Frears Biography, Comedy, Drama\n",
       "998         The Invisible Man James Whale Horror, Sci-Fi\n",
       "999          Cell 211 Daniel Monzón Action, Crime, Drama\n",
       "Name: data, Length: 1000, dtype: object"
      ]
     },
     "execution_count": 4,
     "metadata": {},
     "output_type": "execute_result"
    }
   ],
   "source": [
    "df['data'] = df['title'] + ' ' + df['director'] + ' ' +  df['genre']\n",
    "df['data']"
   ]
  },
  {
   "cell_type": "code",
   "execution_count": null,
   "metadata": {},
   "outputs": [],
   "source": [
    "#remove punctuations - anything that is not a word or a space\n",
    "df['data'] = df['data'].str.replace('[^\\w\\s]','')\n",
    "# Lower case\n",
    "df['data'] = df['data'].str.lower()"
   ]
  },
  {
   "cell_type": "code",
   "execution_count": null,
   "metadata": {},
   "outputs": [
    {
     "data": {
      "text/plain": [
       "0              shawshank redemption frank darabont drama\n",
       "1            godfather francis ford coppola crime, drama\n",
       "2      dark knight christopher nolan action, crime, d...\n",
       "3      schindler's list steven spielberg biography, d...\n",
       "4                 12 angry men sidney lumet crime, drama\n",
       "                             ...                        \n",
       "995    long engagement jean-pierre jeunet drama, myst...\n",
       "996            shine scott hicks biography, drama, music\n",
       "997    philomena stephen frears biography, comedy, drama\n",
       "998             invisible man james whale horror, sci-fi\n",
       "999          cell 211 daniel monzón action, crime, drama\n",
       "Name: data, Length: 1000, dtype: object"
      ]
     },
     "execution_count": 6,
     "metadata": {},
     "output_type": "execute_result"
    }
   ],
   "source": [
    "def remove_stopwords(text):\n",
    "    words = text.split()\n",
    "    return\" \".join(word for word in words if word not in stopwords.words('english'))\n",
    "df['data'] = df['data'].apply(remove_stopwords)\n",
    "df['data']"
   ]
  },
  {
   "cell_type": "code",
   "execution_count": null,
   "metadata": {},
   "outputs": [
    {
     "data": {
      "text/plain": [
       "(1000, 2267)"
      ]
     },
     "execution_count": 7,
     "metadata": {},
     "output_type": "execute_result"
    }
   ],
   "source": [
    "#vectorize the data\n",
    "vectorizer = CountVectorizer()\n",
    "X = vectorizer.fit_transform(df['data']).toarray()\n",
    "X.shape"
   ]
  },
  {
   "cell_type": "code",
   "execution_count": null,
   "metadata": {},
   "outputs": [
    {
     "data": {
      "text/plain": [
       "(1000, 1000)"
      ]
     },
     "execution_count": 8,
     "metadata": {},
     "output_type": "execute_result"
    }
   ],
   "source": [
    "# similarity matrix\n",
    "similarity = cosine_similarity(X, X)\n",
    "similarity.shape"
   ]
  },
  {
   "cell_type": "code",
   "execution_count": null,
   "metadata": {},
   "outputs": [],
   "source": [
    "def get_index_from_title(title):\n",
    "    try: \n",
    "        return df[df.title == title].index[0]\n",
    "    except:\n",
    "        return None\n",
    "\n",
    "def recommend_movie(title, Limit = 10):\n",
    "    index = get_index_from_title(title)\n",
    "    if index is None:\n",
    "        return []\n",
    "    else:\n",
    "        movie_scores = []\n",
    "        for i in range(similarity.shape[0]):\n",
    "            movie_scores.append((df['title'][i],similarity[index][i]))\n",
    "        movie_scores.sort(key=lambda x:x[1],reverse = True)\n",
    "        return movie_scores[1:Limit+1]"
   ]
  },
  {
   "cell_type": "code",
   "execution_count": null,
   "metadata": {},
   "outputs": [
    {
     "data": {
      "text/plain": [
       "[('Harry Potter and the Prisoner of Azkaban', 0.5555555555555556),\n",
       " (\"Harry Potter and the Sorcerer's Stone\", 0.5555555555555556),\n",
       " ('Harry Potter and the Deathly Hallows: Part 2', 0.5270462766947299),\n",
       " ('Harry Potter and the Deathly Hallows: Part 1', 0.5270462766947299),\n",
       " ('Stardust', 0.408248290463863)]"
      ]
     },
     "execution_count": 10,
     "metadata": {},
     "output_type": "execute_result"
    }
   ],
   "source": [
    "recommend_movie('Harry Potter and the Goblet of Fire',5)"
   ]
  },
  {
   "cell_type": "code",
   "execution_count": null,
   "metadata": {},
   "outputs": [],
   "source": []
  }
 ],
 "metadata": {
  "kernelspec": {
   "display_name": "base",
   "language": "python",
   "name": "python3"
  },
  "language_info": {
   "codemirror_mode": {
    "name": "ipython",
    "version": 3
   },
   "file_extension": ".py",
   "mimetype": "text/x-python",
   "name": "python",
   "nbconvert_exporter": "python",
   "pygments_lexer": "ipython3",
   "version": "3.11.4"
  }
 },
 "nbformat": 4,
 "nbformat_minor": 2
}
